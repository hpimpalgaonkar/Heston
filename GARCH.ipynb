{
 "cells": [
  {
   "cell_type": "code",
   "execution_count": 1,
   "metadata": {},
   "outputs": [],
   "source": [
    "#Import Libraries\n",
    "import numpy as np\n",
    "import pandas as pd\n",
    "import matplotlib.pyplot as plt"
   ]
  },
  {
   "cell_type": "code",
   "execution_count": 2,
   "metadata": {},
   "outputs": [],
   "source": [
    "#Code for plotting ACF,PACF and Q-Q plots. Taken from BlackArbs LLC website\n",
    "import os\n",
    "import sys\n",
    "\n",
    "import statsmodels.formula.api as smf\n",
    "import statsmodels.tsa.api as smt\n",
    "import statsmodels.api as sm\n",
    "import scipy.stats as scs\n",
    "\n",
    "\n",
    "#import matplotlib.pyplot as plt\n",
    "import matplotlib as mpl\n",
    "\n",
    "def tsplot(y, lags=None, figsize=(10, 8), style='bmh'):\n",
    "    if not isinstance(y, pd.Series):\n",
    "        y = pd.Series(y)\n",
    "    with plt.style.context(style):    \n",
    "        fig = plt.figure(figsize=figsize)\n",
    "        #mpl.rcParams['font.family'] = 'Ubuntu Mono'\n",
    "        layout = (3, 2)\n",
    "        ts_ax = plt.subplot2grid(layout, (0, 0), colspan=2)\n",
    "        acf_ax = plt.subplot2grid(layout, (1, 0))\n",
    "        pacf_ax = plt.subplot2grid(layout, (1, 1))\n",
    "        qq_ax = plt.subplot2grid(layout, (2, 0))\n",
    "        pp_ax = plt.subplot2grid(layout, (2, 1))\n",
    "        \n",
    "        y.plot(ax=ts_ax)\n",
    "        ts_ax.set_title('Time Series Analysis Plots')\n",
    "        smt.graphics.plot_acf(y, lags=lags, ax=acf_ax, alpha=0.5)\n",
    "        smt.graphics.plot_pacf(y, lags=lags, ax=pacf_ax, alpha=0.5)\n",
    "        sm.qqplot(y, line='s', ax=qq_ax)\n",
    "        qq_ax.set_title('QQ Plot')        \n",
    "        scs.probplot(y, sparams=(y.mean(), y.std()), plot=pp_ax)\n",
    "\n",
    "        plt.tight_layout()\n",
    "    return "
   ]
  },
  {
   "cell_type": "code",
   "execution_count": null,
   "metadata": {},
   "outputs": [],
   "source": [
    "#Load Data\n",
    "df = pd.read_excel('2018_2020_NiftyIV_v2.xlsx')"
   ]
  },
  {
   "cell_type": "code",
   "execution_count": null,
   "metadata": {},
   "outputs": [],
   "source": [
    "#Create a label to identify the transition from one expiry to another. This piece of code identifies the change in\n",
    "#days to expiry and creates a abel for it.\n",
    "df['Label'] = 0\n",
    "df['Label'] = np.where(df['Days_To_Expiy']>=df['Days_To_Expiy'].shift(-1),0,1)\n",
    "#df.head(5)"
   ]
  },
  {
   "cell_type": "code",
   "execution_count": null,
   "metadata": {},
   "outputs": [],
   "source": [
    "#Create a list of dataframes that group the data by dates\n",
    "dfDailyList = []\n",
    "for group in df.groupby(df['Date/Time'].dt.date):\n",
    "    dfDailyList.append(group[1])"
   ]
  },
  {
   "cell_type": "code",
   "execution_count": null,
   "metadata": {},
   "outputs": [],
   "source": [
    "#Slice the main data by expiry, create a list of dataframes for different expiries\n",
    "index_list = df[df['Label']==1].index.tolist()\n",
    "dfExpiryList = []\n",
    "for i in range(0,len(index_list)):\n",
    "    if(i==0):\n",
    "        dfExpiryList.append(df.iloc[:index_list[i]+1,:])\n",
    "    else:\n",
    "        dfExpiryList.append(df.iloc[index_list[i-1]+1:index_list[i]+1,:])"
   ]
  },
  {
   "cell_type": "code",
   "execution_count": null,
   "metadata": {},
   "outputs": [],
   "source": [
    "#Create an OHLC data for price and volatility on day basis\n",
    "from datetime import datetime\n",
    "column_names = ['Date/Time','vol_Open','vol_High','vol_Low','vol_Close','price_Open','price_High','price_Low','price_Close','Label']\n",
    "dfDailyOHLCList = pd.DataFrame(columns=column_names)\n",
    "for dftemp in dfDailyList:\n",
    "        dte = dftemp['Date/Time'].iloc[0].date()\n",
    "        vol_Open = dftemp['Avg_IV_ATM'].iloc[0]\n",
    "        vol_Close = dftemp['Avg_IV_ATM'].iloc[-1]\n",
    "        vol_High = dftemp['Avg_IV_ATM'].max()\n",
    "        vol_Low = dftemp['Avg_IV_ATM'].min()\n",
    "        price_Open = dftemp['Underlying_Fut'].iloc[0]\n",
    "        price_Close = dftemp['Underlying_Fut'].iloc[-1]\n",
    "        price_High = dftemp['Underlying_Fut'].max()\n",
    "        price_Low = dftemp['Underlying_Fut'].min()\n",
    "        label = dftemp['Label'].iloc[-1]\n",
    "        dfDailyOHLCList = dfDailyOHLCList.append({'Date/Time':dte,'vol_Open':vol_Open,'vol_High':vol_High,'vol_Low':vol_Low,'vol_Close':vol_Close,'price_Open':price_Open,'price_High':price_High,'price_Low':price_Low,'price_Close':price_Close,'Label':label},ignore_index=True)\n",
    "        "
   ]
  },
  {
   "cell_type": "code",
   "execution_count": null,
   "metadata": {},
   "outputs": [],
   "source": [
    "#Extract data at 3.15 pm verydat\n",
    "column_names = ['Date','vol','price']\n",
    "dfDailyEODList = pd.DataFrame(columns=column_names)\n",
    "my_time_string = \"15:15:00\"\n",
    "my_time = datetime.strptime(my_time_string, \"%H:%M:%S\")\n",
    "\n",
    "i=0\n",
    "for dftemp in dfDailyList:\n",
    "        dte = dftemp['Date/Time'].iloc[0].date()\n",
    "        vol = dftemp[dftemp['Date/Time'][:].dt.time == my_time.time()]['Avg_IV_ATM'].to_numpy()\n",
    "        price = dftemp[dftemp['Date/Time'][:].dt.time == my_time.time()]['Underlying_Fut'].to_numpy()\n",
    "        #label = dftemp[dftemp['Date/Time'][:].dt.time == my_time.time()]['Label']\n",
    "        if(vol.size == 0):\n",
    "            continue\n",
    "        else:\n",
    "            vol1=vol[0,]\n",
    "            price1=price[0,]\n",
    "        i=i+1\n",
    "        dfDailyEODList = dfDailyEODList.append({'Date':dte,'vol':vol1,'price':price1},ignore_index=True)"
   ]
  },
  {
   "cell_type": "code",
   "execution_count": null,
   "metadata": {},
   "outputs": [],
   "source": [
    "#A sample GARCH problem, taken from BalckArbs LLC\n",
    "#This works spectacularly\n",
    "from arch import arch_model\n",
    "a0 = 0.2\n",
    "a1 = 0.5\n",
    "b1 = 0.3\n",
    "\n",
    "n = 10000\n",
    "w = np.random.normal(size=n)\n",
    "eps = np.zeros_like(w)\n",
    "sigsq = np.zeros_like(w)\n",
    "\n",
    "for i in range(1, n):\n",
    "    sigsq[i] = a0 + a1*(eps[i-1]**2) + b1*sigsq[i-1]\n",
    "    eps[i] = w[i] * np.sqrt(sigsq[i])\n",
    "\n",
    "_ = tsplot(eps)\n",
    "am = arch_model(eps)\n",
    "res = am.fit(update_freq=5)\n",
    "res.summary()"
   ]
  },
  {
   "cell_type": "code",
   "execution_count": null,
   "metadata": {
    "scrolled": true
   },
   "outputs": [],
   "source": [
    "#Volatility calculation based on given price data, WORK IN porgress\n",
    "df['Return'] = np.log(df['Underlying_Fut']/df['Underlying_Fut'].shift(1))\n",
    "df['Cum Return'] = df['Return'].cumsum()\n",
    "df['Return_Vol'] = np.sqrt(df['Return'].apply(lambda x: x*x))*np.sqrt(252)*100\n",
    "layout = (1, 1)\n",
    "ts_ax = plt.subplot2grid(layout, (0, 0), colspan=2)\n",
    "df['Return_Vol'].plot(ax=ts_ax)\n",
    "df['Avg_IV_ATM'].plot(ax=ts_ax)\n",
    "plt.show()"
   ]
  },
  {
   "cell_type": "code",
   "execution_count": null,
   "metadata": {},
   "outputs": [],
   "source": [
    "#Plot of volatilities @ 3.15 pm data\n",
    "tsplot(dfDailyEODList['vol'],lags=30)"
   ]
  },
  {
   "cell_type": "code",
   "execution_count": null,
   "metadata": {},
   "outputs": [],
   "source": [
    "#GARCH on EOD data, note that the beta value shows fit is imperfect\n",
    "am = arch_model(dfDailyEODList['vol'],p=1,q=1)\n",
    "res = am.fit(update_freq=5)\n",
    "res.summary()"
   ]
  },
  {
   "cell_type": "code",
   "execution_count": null,
   "metadata": {},
   "outputs": [],
   "source": [
    "#Volatility calculations - Work in progress\n",
    "dfDailyOHLCList['Return'] = np.log(dfDailyOHLCList['price_Close']/dfDailyOHLCList['price_Close'].shift(1))\n",
    "dfDailyOHLCList['Parkinson_Return'] = np.log(dfDailyOHLCList['price_High']/dfDailyOHLCList['price_Low'])**2\n",
    "dfDailyOHLCList['Cum Return'] = dfDailyOHLCList['Return'].cumsum()\n",
    "length_return = np.arange(1,len(dfDailyOHLCList['Return'])+1)\n",
    "length_parkinson = np.arange(1,len(dfDailyOHLCList['Parkinson_Return'])+1)\n",
    "dfDailyOHLCList['Return_Vol'] = np.sqrt(dfDailyOHLCList['Return'].apply(lambda x: x*x)).divide(length_return)*np.sqrt(252)*100\n",
    "dfDailyOHLCList['Parkinson_Vol'] = np.sqrt(dfDailyOHLCList['Parkinson_Return'].cumsum()/4/(len(dfDailyOHLCList['Parkinson_Return']))/np.log(2))*100\n",
    "layout = (1, 1)\n",
    "ts_ax = plt.subplot2grid(layout, (0, 0), colspan=2)\n",
    "dfDailyOHLCList['Return_Vol'].plot(ax=ts_ax,color='r')\n",
    "(dfDailyOHLCList['vol_Close']/100).plot(ax=ts_ax,color='b')\n",
    "dfDailyOHLCList['Parkinson_Vol'].plot(ax=ts_ax,color='c')\n",
    "plt.show()"
   ]
  },
  {
   "cell_type": "code",
   "execution_count": null,
   "metadata": {},
   "outputs": [],
   "source": [
    "_ = tsplot(dfDailyOHLCList['vol_Close'])"
   ]
  },
  {
   "cell_type": "code",
   "execution_count": null,
   "metadata": {},
   "outputs": [],
   "source": [
    "#GARCH on the close data from OHLC data\n",
    "am = arch_model(dfDailyOHLCList['vol_Close'][:100],p=1,q=1)\n",
    "res = am.fit(update_freq=5)\n",
    "print(res.summary())\n",
    "res.plot()"
   ]
  },
  {
   "cell_type": "code",
   "execution_count": null,
   "metadata": {},
   "outputs": [],
   "source": [
    "#GARCH on the first daily OHLC data\n",
    "dftemp = dfDailyList[0]\n",
    "tsplot(dftemp['Avg_IV_ATM'],lags=30)"
   ]
  },
  {
   "cell_type": "code",
   "execution_count": null,
   "metadata": {},
   "outputs": [],
   "source": [
    "#GARCH on the first daily OHLC data, note it did not converge\n",
    "am = arch_model(dftemp['Avg_IV_ATM'],p=1,q=1)\n",
    "res = am.fit(update_freq=5)\n",
    "print(res.summary())\n",
    "res.plot()"
   ]
  },
  {
   "cell_type": "code",
   "execution_count": null,
   "metadata": {},
   "outputs": [],
   "source": [
    "#GARCH on the expiry data\n",
    "dftemp = dfExpiryList[0]\n",
    "tsplot(dftemp['Avg_IV_ATM'],lags=30)"
   ]
  },
  {
   "cell_type": "code",
   "execution_count": null,
   "metadata": {},
   "outputs": [],
   "source": [
    "#GARCH on the first daily OHLC data, only this model looks a bit better\n",
    "am = arch_model(dftemp['Avg_IV_ATM'],p=1,q=1)\n",
    "res = am.fit(update_freq=5)\n",
    "print(res.summary())\n",
    "res.plot()"
   ]
  },
  {
   "cell_type": "code",
   "execution_count": null,
   "metadata": {},
   "outputs": [],
   "source": []
  }
 ],
 "metadata": {
  "kernelspec": {
   "display_name": "Python 3",
   "language": "python",
   "name": "python3"
  },
  "language_info": {
   "codemirror_mode": {
    "name": "ipython",
    "version": 3
   },
   "file_extension": ".py",
   "mimetype": "text/x-python",
   "name": "python",
   "nbconvert_exporter": "python",
   "pygments_lexer": "ipython3",
   "version": "3.8.5"
  }
 },
 "nbformat": 4,
 "nbformat_minor": 4
}
